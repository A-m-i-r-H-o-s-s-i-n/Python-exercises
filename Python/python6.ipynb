{
 "cells": [
  {
   "cell_type": "markdown",
   "metadata": {},
   "source": [
    "- if conditon:\n",
    "  - code 1\n",
    "- else:\n",
    "  - code2"
   ]
  },
  {
   "cell_type": "code",
   "execution_count": 1,
   "metadata": {},
   "outputs": [
    {
     "name": "stdout",
     "output_type": "stream",
     "text": [
      "Ok\n"
     ]
    }
   ],
   "source": [
    "a = 5\n",
    "if a <= 10:\n",
    "    print(\"Ok\")\n",
    "else:\n",
    "    print(\"not ok\")"
   ]
  },
  {
   "cell_type": "code",
   "execution_count": 4,
   "metadata": {},
   "outputs": [],
   "source": [
    "user_age = input(\"pleas your age: \")\n",
    "user_age_int = int(user_age)"
   ]
  },
  {
   "cell_type": "code",
   "execution_count": 5,
   "metadata": {},
   "outputs": [
    {
     "name": "stdout",
     "output_type": "stream",
     "text": [
      "you con not drive\n"
     ]
    }
   ],
   "source": [
    "if user_age_int >= 18:\n",
    "    print(\"you con drive\")\n",
    "else:\n",
    "    print(\"you con not drive\")"
   ]
  },
  {
   "cell_type": "code",
   "execution_count": 9,
   "metadata": {},
   "outputs": [
    {
     "name": "stdout",
     "output_type": "stream",
     "text": [
      "take your jacket\n"
     ]
    }
   ],
   "source": [
    "a = \"snowy\"\n",
    "\n",
    "if a == \"rainy\":\n",
    "    print(\"take your umbrella\")\n",
    "elif  a == \"snowy\":\n",
    "    print(\"take your jacket\")\n",
    "else:\n",
    "    print(\"weather is sunny\")"
   ]
  },
  {
   "cell_type": "markdown",
   "metadata": {},
   "source": [
    "- if conditionl:\n",
    "    - code 1\n",
    "- elif conditionl 2:\n",
    "    - code 2\n",
    "- elif conditionl 3:\n",
    "    - code 3\n",
    "- else:\n",
    "    - code 4"
   ]
  },
  {
   "cell_type": "code",
   "execution_count": 10,
   "metadata": {},
   "outputs": [
    {
     "name": "stdout",
     "output_type": "stream",
     "text": [
      "higer than 10\n"
     ]
    }
   ],
   "source": [
    "a = 20\n",
    "\n",
    "if a >= 100:\n",
    "    print(\"higer than 100\")\n",
    "elif a>= 10:\n",
    "    print(\"higer than 10\")\n",
    "else:\n",
    "    print(\"lower than 10\")"
   ]
  },
  {
   "cell_type": "code",
   "execution_count": 11,
   "metadata": {},
   "outputs": [
    {
     "name": "stdout",
     "output_type": "stream",
     "text": [
      "pass\n"
     ]
    }
   ],
   "source": [
    "score1 = 90\n",
    "score2 = 80\n",
    "\n",
    "if score1 >= 80 and score2 >= 80:\n",
    "    print(\"pass\")\n",
    "else:\n",
    "    print(\"failed\")"
   ]
  },
  {
   "cell_type": "code",
   "execution_count": 12,
   "metadata": {},
   "outputs": [
    {
     "name": "stdout",
     "output_type": "stream",
     "text": [
      "pass\n"
     ]
    }
   ],
   "source": [
    "score1 = 90\n",
    "score2 = 70\n",
    "\n",
    "if score1 >= 80 or score2 >= 80:\n",
    "    print(\"pass\")\n",
    "else:\n",
    "    print(\"failed\")"
   ]
  }
 ],
 "metadata": {
  "kernelspec": {
   "display_name": "Python 3",
   "language": "python",
   "name": "python3"
  },
  "language_info": {
   "codemirror_mode": {
    "name": "ipython",
    "version": 3
   },
   "file_extension": ".py",
   "mimetype": "text/x-python",
   "name": "python",
   "nbconvert_exporter": "python",
   "pygments_lexer": "ipython3",
   "version": "3.11.5"
  }
 },
 "nbformat": 4,
 "nbformat_minor": 2
}
