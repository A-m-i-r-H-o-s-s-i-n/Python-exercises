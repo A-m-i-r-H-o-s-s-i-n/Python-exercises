{
 "cells": [
  {
   "cell_type": "code",
   "execution_count": 1,
   "metadata": {},
   "outputs": [
    {
     "name": "stdout",
     "output_type": "stream",
     "text": [
      "<class 'tuple'>\n",
      "<class 'tuple'>\n",
      "<class 'tuple'>\n",
      "3\n",
      "(3, 4)\n",
      "6\n",
      "(12, 3, 4)\n",
      "(12, 3, 4, 5, 6, 6, 22)\n",
      "(12, 3, 4, 6, 6, 22)\n",
      "2\n",
      "not font\n",
      "1\n"
     ]
    }
   ],
   "source": [
    "t = tuple()\n",
    "print(type(t))\n",
    "t=()\n",
    "print(type(t))\n",
    "t = (12,3,4,5,6,6)\n",
    "print(type(t))\n",
    "print(t[1])\n",
    "print(t[1:3])\n",
    "print(t[-1])\n",
    "print(t[:3])\n",
    "t+=(22,)\n",
    "print(t)\n",
    "l = list(t)\n",
    "l.remove(5)\n",
    "t = tuple(l)\n",
    "print(t)\n",
    "print(t.index(4))\n",
    "if t.count(24)>0:\n",
    "    print(t.index(24))\n",
    "else:\n",
    "    print(\"not font\")\n",
    "print(t.count(4))"
   ]
  },
  {
   "cell_type": "code",
   "execution_count": 2,
   "metadata": {},
   "outputs": [
    {
     "name": "stdout",
     "output_type": "stream",
     "text": [
      "[5, 4, 4, 3, 2]\n"
     ]
    }
   ],
   "source": [
    "t = tuple()\n",
    "for i in range(5):\n",
    "    t+= (int(input(\"Enter number: \")),)\n",
    "t = sorted(t,reverse=True)\n",
    "print(t)"
   ]
  },
  {
   "cell_type": "code",
   "execution_count": 5,
   "metadata": {},
   "outputs": [
    {
     "name": "stdout",
     "output_type": "stream",
     "text": [
      "[1, 1, 1, 2, 3, 3, 3, 3, 4, 5, 5, 6, 7, 7, 7, 7, 8]\n",
      "num = 1 sum = 3\n",
      "num = 2 sum = 1\n",
      "num = 3 sum = 4\n",
      "num = 4 sum = 1\n",
      "num = 5 sum = 2\n",
      "num = 6 sum = 1\n",
      "num = 7 sum = 4\n",
      "num = 8 sum = 1\n"
     ]
    }
   ],
   "source": [
    "a = [1,1,1,2,3,3,3,3,4,5,5,6,7,7,7,7,8,]\n",
    "l = sorted(a)\n",
    "c =1\n",
    "print(l)\n",
    "for i in range(len(l)):\n",
    "    t = l[i]\n",
    "    if i+1==len(l):\n",
    "        print(f\"num = {t} sum = {c}\")\n",
    "        break\n",
    "    if t==l[i+1]:\n",
    "        c+=1\n",
    "    else:\n",
    "        print(f\"num = {t} sum = {c}\")\n",
    "        t = l[i+1]\n",
    "        c=1"
   ]
  },
  {
   "cell_type": "code",
   "execution_count": 7,
   "metadata": {},
   "outputs": [
    {
     "name": "stdout",
     "output_type": "stream",
     "text": [
      "<class 'set'> 1\n",
      "{1, 2, 3, 4, 5, 6, 7} 2\n",
      "{1, 2, 3, 4, 5, 6, 7, 20} 3\n",
      "{1, 3, 4, 5, 6, 7, 20} 4\n",
      "1 5\n",
      "{3, 4, 6} 6\n",
      "{3, 4, 20, 6, 7, 12, 45} 7\n",
      "{20, 7} 8\n",
      "{7, 12, 45, 20} 9\n"
     ]
    }
   ],
   "source": [
    "a = {1,2,3,4,5,6,7,6,5}\n",
    "print(type(a),'1')\n",
    "print(a,'2')\n",
    "a.add(20)\n",
    "print(a,'3')\n",
    "a.remove(2)\n",
    "print(a,'4')\n",
    "a.discard(5)\n",
    "print(a.pop(),'5')\n",
    "d = (12,3,45,6,4,6,)\n",
    "print(a.intersection(d),'6')\n",
    "print(a.union(d),'7')\n",
    "print(a.difference(d),'8')\n",
    "print(a.symmetric_difference(d),'9')"
   ]
  },
  {
   "cell_type": "code",
   "execution_count": null,
   "metadata": {},
   "outputs": [
    {
     "name": "stdout",
     "output_type": "stream",
     "text": [
      "{<built-in function id>: 12, 'name': 'amir hossin', 'narrid': False} => 1\n",
      "{<built-in function id>: 12, 'name': 'amir', 'narrid': False} => 2\n",
      "dict_items([(<built-in function id>, 12), ('name', 'amir'), ('narrid', False)]) => 3\n",
      "dict_keys([<built-in function id>, 'name', 'narrid']) => 4\n",
      "dict_values([12, 'amir', False]) => 5\n",
      "amir => 6\n",
      "amir => 7\n",
      "None => 8\n"
     ]
    }
   ],
   "source": [
    "d = dict()\n",
    "d[id] = 12\n",
    "d['name'] = 'amir hossin'\n",
    "d['narrid'] = False\n",
    "print(d,'=> 1')\n",
    "d['name'] = 'amir'\n",
    "print(d,'=> 2')\n",
    "print(d.items(),'=> 3')\n",
    "print(d.keys(),'=> 4')\n",
    "print(d.values(),'=> 5')\n",
    "print(d.get('name'),'=> 6')\n",
    "print(d['name'],'=> 7')\n",
    "print(d.get('family'),'=> 8')"
   ]
  },
  {
   "cell_type": "code",
   "execution_count": 10,
   "metadata": {},
   "outputs": [
    {
     "name": "stdout",
     "output_type": "stream",
     "text": [
      "parsonel 1\n",
      "========================================\n",
      "parsonel 2\n",
      "========================================\n",
      "parsonel 3\n",
      "========================================\n",
      "id        name           family              \n",
      "========================================\n",
      "fsd       2              asds                \n",
      "3         amir           dfsds               \n",
      "4         dfgfd          fdsg                \n"
     ]
    }
   ],
   "source": [
    "mylist=[]\n",
    "for i in range(3):\n",
    "    mydi=dict()\n",
    "    print(f\"parsonel {i+1}\")\n",
    "    print('='*40)\n",
    "    mydi['name']= input(\"Enter name: \")\n",
    "    mydi['family']= input(\"Enter family: \")\n",
    "    mydi['id']= input(\"Enter id: \")\n",
    "    mylist.append(mydi)\n",
    "print(f\"{'id':<10}{'name':<15}{'family':<20}\")\n",
    "print('='*40)\n",
    "for i in mylist:\n",
    "    print(f\"{i['id']:<10}{i['name']:<15}{i['family']:<20}\")\n"
   ]
  },
  {
   "cell_type": "code",
   "execution_count": 11,
   "metadata": {},
   "outputs": [
    {
     "name": "stdout",
     "output_type": "stream",
     "text": [
      "id        name           family              \n",
      "========================================\n",
      "3         fsdadsaf       fsdgfs              \n",
      "4         fgfd           gdsf                \n",
      "4         gfdg           gfd                 \n"
     ]
    }
   ],
   "source": [
    "mylis = []\n",
    "while True:\n",
    "    n = input(\"1)inset\\n2)show all\\n3)exit\\nEnter number: \")\n",
    "    match (n):\n",
    "        case '1':\n",
    "            mydi=dict()\n",
    "            mydi['name']= input(\"Enter name: \")\n",
    "            mydi['family']= input(\"Enter family: \")\n",
    "            mydi['id']= input(\"Enter id: \")\n",
    "            mylis.append(mydi)\n",
    "        case '2':\n",
    "            print(f\"{'id':<10}{'name':<15}{'family':<20}\")\n",
    "            print('='*40)\n",
    "            for i in mylis:\n",
    "                print(f\"{i['id']:<10}{i['name']:<15}{i['family']:<20}\")\n",
    "        case '3':\n",
    "            break\n"
   ]
  },
  {
   "cell_type": "code",
   "execution_count": 1,
   "metadata": {},
   "outputs": [
    {
     "name": "stdout",
     "output_type": "stream",
     "text": [
      "dddd\n",
      "dddddd\n",
      "asaaaaa\n"
     ]
    }
   ],
   "source": [
    "def a(*n):\n",
    "    for i in n:\n",
    "        print(i)\n",
    "a('dddd','dddddd','asaaaaa')"
   ]
  },
  {
   "cell_type": "code",
   "execution_count": 3,
   "metadata": {},
   "outputs": [
    {
     "name": "stdout",
     "output_type": "stream",
     "text": [
      "dict_items([('name', 'amir'), ('family', 'ahmde'), ('age', 23)])\n",
      "dict_keys(['name', 'family', 'age'])\n",
      "dict_values(['amir', 'ahmde', 23])\n",
      "name\tamir\n",
      "family\tahmde\n",
      "age\t23\n"
     ]
    }
   ],
   "source": [
    "def t(**n):\n",
    "    print(n.items())\n",
    "    print(n.keys())\n",
    "    print(n.values())\n",
    "    for key,values in n.items():\n",
    "        print(f\"{key}\\t{values}\")\n",
    "\n",
    "t(name = 'amir', family = 'ahmde', age = 23)"
   ]
  },
  {
   "cell_type": "code",
   "execution_count": 4,
   "metadata": {},
   "outputs": [
    {
     "name": "stdout",
     "output_type": "stream",
     "text": [
      "[1, 2, 3, 4, 5, 6, 7]\n",
      "[1, 2, 3, 4, 5, 6, 7, '8']\n"
     ]
    }
   ],
   "source": [
    "def h(n):\n",
    "    n.append(input(\"Enter number: \"))\n",
    "\n",
    "l1 = [1,2,3,4,5,6,7]\n",
    "print(l1)\n",
    "h(l1)\n",
    "print(l1)"
   ]
  },
  {
   "cell_type": "code",
   "execution_count": 5,
   "metadata": {},
   "outputs": [
    {
     "name": "stdout",
     "output_type": "stream",
     "text": [
      "7\n",
      "5\n"
     ]
    }
   ],
   "source": [
    "def number():\n",
    "    global x, y\n",
    "    t = x\n",
    "    x = y\n",
    "    y = t\n",
    "x = 5\n",
    "y = 7\n",
    "number()\n",
    "print(x)\n",
    "print(y)"
   ]
  },
  {
   "cell_type": "code",
   "execution_count": 2,
   "metadata": {},
   "outputs": [
    {
     "name": "stdout",
     "output_type": "stream",
     "text": [
      "\n"
     ]
    }
   ],
   "source": [
    "mylist = []\n",
    "def input_name(n):\n",
    "    for i in range(n):\n",
    "        mydic=dict()\n",
    "        mydic['name']= input(\"Enter your name: \")\n",
    "        mydic['age']= input(\"Enter your age: \")\n",
    "        mylist.append(mydic)\n",
    "def min_name():\n",
    "    min_age = lambda mm,age:age if age<mm else mm\n",
    "    m = mylist[0]['age']\n",
    "    name = ''\n",
    "    for i in mylist:\n",
    "        if i['age']<m:\n",
    "            name = i['name']\n",
    "    return name\n",
    "def main():\n",
    "    input_name(2)\n",
    "    print(min_name())\n",
    "if __name__ == '__main__':\n",
    "    main()"
   ]
  },
  {
   "cell_type": "code",
   "execution_count": 1,
   "metadata": {},
   "outputs": [
    {
     "name": "stdout",
     "output_type": "stream",
     "text": [
      "6\n"
     ]
    }
   ],
   "source": [
    "def fact(n=1):\n",
    "    if n<=0:\n",
    "        return \"invalid numbar\"\n",
    "    if n == 1:\n",
    "        return 1\n",
    "    return n*fact(n-1)\n",
    "print(fact(int(input(\"Enter your number :\"))))"
   ]
  },
  {
   "cell_type": "code",
   "execution_count": 2,
   "metadata": {},
   "outputs": [
    {
     "name": "stdout",
     "output_type": "stream",
     "text": [
      "81\n"
     ]
    }
   ],
   "source": [
    "def power(a,b):\n",
    "    if b == 1:\n",
    "        return a\n",
    "    return a*power(a,b-1)\n",
    "a = int(input(\"Enter your number1 :\"))\n",
    "b = int(input(\"Enter your number2 :\"))\n",
    "\n",
    "print(power(a,b))"
   ]
  },
  {
   "cell_type": "code",
   "execution_count": 3,
   "metadata": {},
   "outputs": [
    {
     "name": "stdout",
     "output_type": "stream",
     "text": [
      "1\t1\t2\t3\t5\t"
     ]
    }
   ],
   "source": [
    "def fibo(n):\n",
    "    if n==1 or n ==2:\n",
    "        return 1\n",
    "    return fibo(n-1)+fibo(n-2)\n",
    "n = int(input(\"Enter your number: \"))\n",
    "for i in range(1,n+1):\n",
    "    print(fibo(i),end='\\t')"
   ]
  },
  {
   "cell_type": "code",
   "execution_count": 4,
   "metadata": {},
   "outputs": [
    {
     "name": "stdout",
     "output_type": "stream",
     "text": [
      "32\n"
     ]
    }
   ],
   "source": [
    "def myfunc(n):\n",
    "    return lambda a : a ** n\n",
    "m = myfunc(5)\n",
    "print(m(2))"
   ]
  },
  {
   "cell_type": "code",
   "execution_count": 5,
   "metadata": {},
   "outputs": [
    {
     "name": "stdout",
     "output_type": "stream",
     "text": [
      "9\n"
     ]
    }
   ],
   "source": [
    "def outer_function(x):\n",
    "    return lambda y : x**y\n",
    "x = outer_function(3)\n",
    "y=x(2)\n",
    "print(y)"
   ]
  },
  {
   "cell_type": "code",
   "execution_count": 6,
   "metadata": {},
   "outputs": [
    {
     "name": "stdout",
     "output_type": "stream",
     "text": [
      "35\n"
     ]
    }
   ],
   "source": [
    "def complex_calculation(x,y):\n",
    "    def intermediate_calculation(x,y):\n",
    "        return x ** 2 + y ** 2\n",
    "    return intermediate_calculation(x,y)+10\n",
    "print(complex_calculation(3,4))"
   ]
  },
  {
   "cell_type": "code",
   "execution_count": null,
   "metadata": {},
   "outputs": [],
   "source": []
  }
 ],
 "metadata": {
  "kernelspec": {
   "display_name": "Python 3",
   "language": "python",
   "name": "python3"
  },
  "language_info": {
   "codemirror_mode": {
    "name": "ipython",
    "version": 3
   },
   "file_extension": ".py",
   "mimetype": "text/x-python",
   "name": "python",
   "nbconvert_exporter": "python",
   "pygments_lexer": "ipython3",
   "version": "3.11.5"
  }
 },
 "nbformat": 4,
 "nbformat_minor": 2
}
