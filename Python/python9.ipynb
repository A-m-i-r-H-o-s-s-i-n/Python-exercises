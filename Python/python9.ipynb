{
 "cells": [
  {
   "cell_type": "markdown",
   "metadata": {},
   "source": [
    "- class:\n",
    "    1. attribute\n",
    "    2. behavior/action\n",
    "\n",
    "\n",
    "- class ClassName:\n",
    "    - code"
   ]
  },
  {
   "cell_type": "code",
   "execution_count": 1,
   "metadata": {},
   "outputs": [],
   "source": [
    "class Ensan:\n",
    "    name = \"name\"\n",
    "    age = 0\n",
    "\n",
    "    def moarefi(self):\n",
    "        print(f\"hello my name is {self.name}\")"
   ]
  },
  {
   "cell_type": "code",
   "execution_count": 9,
   "metadata": {},
   "outputs": [
    {
     "name": "stdout",
     "output_type": "stream",
     "text": [
      "Ali 20\n",
      "hello my name is Ali\n"
     ]
    }
   ],
   "source": [
    "ali = Ensan() # object!\n",
    "\n",
    "ali.name = \"Ali\"\n",
    "ali.age = 20\n",
    "\n",
    "print(ali.name, ali.age)\n",
    "ali.moarefi()"
   ]
  },
  {
   "cell_type": "code",
   "execution_count": 11,
   "metadata": {},
   "outputs": [],
   "source": [
    "class Pet:\n",
    "    def __init__(self, name, age , type):\n",
    "        self.name = name\n",
    "        self.age = age\n",
    "        self.type = type\n",
    "\n",
    "    def eat(self, food):\n",
    "        print(f\"{self.name} is eateng {food}\")"
   ]
  },
  {
   "cell_type": "code",
   "execution_count": 15,
   "metadata": {},
   "outputs": [
    {
     "name": "stdout",
     "output_type": "stream",
     "text": [
      "rex\n",
      "3\n",
      "dag\n",
      "rex is eateng meat\n"
     ]
    }
   ],
   "source": [
    "p1 = Pet(\"rex\", 3, \"dag\")\n",
    "print(p1.name)\n",
    "print(p1.age)\n",
    "print(p1.type)\n",
    "p1.eat(\"meat\")"
   ]
  },
  {
   "cell_type": "code",
   "execution_count": 16,
   "metadata": {},
   "outputs": [],
   "source": [
    "class Pet:\n",
    "    def __init__(self, name, age , type):\n",
    "        self.name = name\n",
    "        self.age = age\n",
    "        self.type = type\n",
    "\n",
    "    def eat(self, food):\n",
    "        print(f\"{self.name} is eateng {food}\")\n",
    "\n",
    "    def run(self):\n",
    "        print(f\"{self.name} is runeng\")"
   ]
  },
  {
   "cell_type": "code",
   "execution_count": 21,
   "metadata": {},
   "outputs": [
    {
     "name": "stdout",
     "output_type": "stream",
     "text": [
      "trex is eateng fish\n",
      "trex is runeng\n",
      "trex\n",
      "4\n",
      "cat\n"
     ]
    }
   ],
   "source": [
    "p2 = Pet(\"trex\", 4, \"cat\")\n",
    "p2.eat(\"fish\")\n",
    "p2.run()\n",
    "print(p2.name)\n",
    "print(p2.age)\n",
    "print(p2.type)"
   ]
  }
 ],
 "metadata": {
  "kernelspec": {
   "display_name": "Python 3",
   "language": "python",
   "name": "python3"
  },
  "language_info": {
   "codemirror_mode": {
    "name": "ipython",
    "version": 3
   },
   "file_extension": ".py",
   "mimetype": "text/x-python",
   "name": "python",
   "nbconvert_exporter": "python",
   "pygments_lexer": "ipython3",
   "version": "3.11.5"
  }
 },
 "nbformat": 4,
 "nbformat_minor": 2
}
