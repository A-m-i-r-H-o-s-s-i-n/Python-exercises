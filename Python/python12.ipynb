{
 "cells": [
  {
   "cell_type": "code",
   "execution_count": 1,
   "metadata": {},
   "outputs": [
    {
     "name": "stdout",
     "output_type": "stream",
     "text": [
      "1\t2\t3\t4\t5\t6\t7\t8\t9\t10\t"
     ]
    }
   ],
   "source": [
    "a =1\n",
    "while a <= 10:\n",
    "    print(a,end='\\t')\n",
    "    a += 1"
   ]
  },
  {
   "cell_type": "code",
   "execution_count": 2,
   "metadata": {},
   "outputs": [
    {
     "name": "stdout",
     "output_type": "stream",
     "text": [
      "1 +  2 +  3 +  4 +  5 +  6 +  7 +  8 +  9 +  10 +  11 +  12 =  78\n"
     ]
    }
   ],
   "source": [
    "num = int(input(\"enter number: \"))\n",
    "cont = 1\n",
    "sum = 0\n",
    "while cont <= num:\n",
    "    if cont < num:\n",
    "        print(f\"{cont} + \",end=\" \")\n",
    "    else:\n",
    "        print(f\"{cont} = \",end=\" \")\n",
    "    sum += cont\n",
    "    cont += 1\n",
    "print(sum)"
   ]
  },
  {
   "cell_type": "code",
   "execution_count": 3,
   "metadata": {},
   "outputs": [
    {
     "name": "stdout",
     "output_type": "stream",
     "text": [
      "6 != 720\n"
     ]
    }
   ],
   "source": [
    "num = int(input(\"enter number: \"))\n",
    "cont = 1\n",
    "sum = 1\n",
    "while cont <= num:\n",
    "    sum*=cont\n",
    "    cont += 1\n",
    "print(f\"{num} != {sum}\")"
   ]
  },
  {
   "cell_type": "code",
   "execution_count": 6,
   "metadata": {},
   "outputs": [
    {
     "name": "stdout",
     "output_type": "stream",
     "text": [
      "number is 5\n"
     ]
    }
   ],
   "source": [
    "sum = 0\n",
    "while True:\n",
    "    num = int(input(\"Enter your number: \"))\n",
    "    if num == 0:\n",
    "        break\n",
    "    sum+=num\n",
    "print(f\"number is {sum}\")"
   ]
  },
  {
   "cell_type": "code",
   "execution_count": 10,
   "metadata": {},
   "outputs": [
    {
     "name": "stdout",
     "output_type": "stream",
     "text": [
      "1 +\t2 +\t6 +\t24 =\t33\n"
     ]
    }
   ],
   "source": [
    "num = int(input(\"Enter number: \"))\n",
    "c1 = 1\n",
    "sum = 0\n",
    "while c1 <= num:\n",
    "    c2 = 1\n",
    "    f=1\n",
    "    while c2<= c1:\n",
    "        f*= c2\n",
    "        c2 +=1\n",
    "    sum += f\n",
    "    if c1<num:\n",
    "        print(f'{f} +',end=\"\\t\")\n",
    "    else:\n",
    "        print(f'{f} =',end=\"\\t\")\n",
    "    c1+=1\n",
    "print(sum)\n"
   ]
  },
  {
   "cell_type": "code",
   "execution_count": 11,
   "metadata": {},
   "outputs": [
    {
     "name": "stdout",
     "output_type": "stream",
     "text": [
      "1.00 +\t2.00 +\t4.50 =\t42.666666666666664\n"
     ]
    }
   ],
   "source": [
    "num = int(input(\"Enter number: \"))\n",
    "c1 = 1\n",
    "sum = 0\n",
    "while c1 <= num:\n",
    "    c2 = 1\n",
    "    f=1\n",
    "    while c2<= c1:\n",
    "        f*= c2\n",
    "        c2 +=1\n",
    "    sum +=c1**c1/f\n",
    "    if c1<num:\n",
    "        print(f'{c1**c1/f:.2f} +',end=\"\\t\")\n",
    "    else:\n",
    "        print(f'{c1**c1/f:.2f} =',end=\"\\t\")\n",
    "    c1+=1\n",
    "print(c1**c1/f)"
   ]
  },
  {
   "cell_type": "code",
   "execution_count": 12,
   "metadata": {},
   "outputs": [
    {
     "name": "stdout",
     "output_type": "stream",
     "text": [
      "2\n",
      "4\n",
      "6\n",
      "8\n",
      "10\n",
      "12\n",
      "14\n",
      "16\n",
      "18\n",
      "20\n"
     ]
    }
   ],
   "source": [
    "n = 0\n",
    "while n <= 20:\n",
    "    n += 1\n",
    "    if n % 2 == 1:\n",
    "        continue\n",
    "    print(n)"
   ]
  },
  {
   "cell_type": "markdown",
   "metadata": {},
   "source": [
    "## range(start=0,stop,step=1)\n"
   ]
  },
  {
   "cell_type": "code",
   "execution_count": 14,
   "metadata": {},
   "outputs": [
    {
     "data": {
      "text/plain": [
       "(range(2, 10, 3), range(0, 4), range(1, 8))"
      ]
     },
     "execution_count": 14,
     "metadata": {},
     "output_type": "execute_result"
    }
   ],
   "source": [
    "a = range(2,10,3)#start=2,stop=10,step=3\n",
    "b = range(4)#start= 0,stop=4,step=1\n",
    "c = range(1,8)#start= 1,stop=8,step=1\n",
    "a , b,c"
   ]
  },
  {
   "cell_type": "code",
   "execution_count": 15,
   "metadata": {},
   "outputs": [
    {
     "name": "stdout",
     "output_type": "stream",
     "text": [
      "6\n"
     ]
    }
   ],
   "source": [
    "a = int(input(\"Enter your number: \"))\n",
    "cont = 1\n",
    "for a in range(1,a+1):\n",
    "    cont*=a\n",
    "print(cont)"
   ]
  },
  {
   "cell_type": "code",
   "execution_count": 24,
   "metadata": {},
   "outputs": [
    {
     "name": "stdout",
     "output_type": "stream",
     "text": [
      "1  1  2  1  2  3  1  2  3  4  \n"
     ]
    }
   ],
   "source": [
    "a = int(input(\"Enter your number: \"))\n",
    "cont = 0\n",
    "for i in range(1,a+1):\n",
    "    for cont in range(1,i+1):\n",
    "        print(f'{cont:<3}',end='')\n",
    "print()"
   ]
  }
 ],
 "metadata": {
  "kernelspec": {
   "display_name": "Python 3",
   "language": "python",
   "name": "python3"
  },
  "language_info": {
   "codemirror_mode": {
    "name": "ipython",
    "version": 3
   },
   "file_extension": ".py",
   "mimetype": "text/x-python",
   "name": "python",
   "nbconvert_exporter": "python",
   "pygments_lexer": "ipython3",
   "version": "3.11.5"
  }
 },
 "nbformat": 4,
 "nbformat_minor": 2
}
