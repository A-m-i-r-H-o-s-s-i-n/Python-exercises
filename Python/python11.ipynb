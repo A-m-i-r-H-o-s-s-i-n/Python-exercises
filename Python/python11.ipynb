{
 "cells": [
  {
   "cell_type": "markdown",
   "metadata": {},
   "source": [
    "### .txt\n",
    "\n",
    "1.read"
   ]
  },
  {
   "cell_type": "code",
   "execution_count": 1,
   "metadata": {},
   "outputs": [
    {
     "name": "stdout",
     "output_type": "stream",
     "text": [
      "A 1\n",
      "b 2\n",
      "c 3\n",
      "r 4\n"
     ]
    }
   ],
   "source": [
    "file = open(\"tast.txt\", \"r\")\n",
    "\n",
    "content = file.read()\n",
    "\n",
    "print(content)\n",
    "\n",
    "file.close()"
   ]
  },
  {
   "cell_type": "markdown",
   "metadata": {},
   "source": [
    "### append"
   ]
  },
  {
   "cell_type": "code",
   "execution_count": 2,
   "metadata": {},
   "outputs": [],
   "source": [
    "file = open(\"tast.txt\", \"a\")\n",
    "\n",
    "file.write(\"\\n line 5\")\n",
    "\n",
    "file.close()"
   ]
  },
  {
   "cell_type": "markdown",
   "metadata": {},
   "source": [
    "write"
   ]
  },
  {
   "cell_type": "code",
   "execution_count": 3,
   "metadata": {},
   "outputs": [],
   "source": [
    "file = open(\"tast.txt\", \"w\")\n",
    "\n",
    "file.write(\"A\")\n",
    "\n",
    "file.close()"
   ]
  },
  {
   "cell_type": "markdown",
   "metadata": {},
   "source": [
    "resd line by line"
   ]
  },
  {
   "cell_type": "code",
   "execution_count": 5,
   "metadata": {},
   "outputs": [
    {
     "name": "stdout",
     "output_type": "stream",
     "text": [
      "1 => A\n",
      "\n",
      "2 => B\n",
      "\n",
      "3 => C\n",
      "\n",
      "4 => D\n"
     ]
    }
   ],
   "source": [
    "file = open(\"tast.txt\", \"r\")\n",
    "\n",
    "counter = 1\n",
    "for line in file:\n",
    "    print(f\"{counter} => {line}\")\n",
    "    counter += 1\n",
    "\n",
    "file.close()"
   ]
  },
  {
   "cell_type": "markdown",
   "metadata": {},
   "source": [
    "write line by line"
   ]
  },
  {
   "cell_type": "code",
   "execution_count": 6,
   "metadata": {},
   "outputs": [],
   "source": [
    "file = open(\"tast.txt\", \"w\")\n",
    "\n",
    "a = [\"\\n1\", \"\\n2\", \"\\n3\"]\n",
    "\n",
    "file.writelines(a)\n",
    "\n",
    "file.close()"
   ]
  },
  {
   "cell_type": "markdown",
   "metadata": {},
   "source": [
    "read & write"
   ]
  },
  {
   "cell_type": "code",
   "execution_count": 8,
   "metadata": {},
   "outputs": [
    {
     "name": "stdout",
     "output_type": "stream",
     "text": [
      "\n",
      "1\n",
      "2\n",
      "3\n"
     ]
    }
   ],
   "source": [
    "file = open(\"tast.txt\", \"r+\")\n",
    "\n",
    "mohtava = file.read()\n",
    "print(mohtava)\n",
    "\n",
    "file.write(\"\\ntest\")\n",
    "\n",
    "file.close()"
   ]
  }
 ],
 "metadata": {
  "kernelspec": {
   "display_name": "Python 3",
   "language": "python",
   "name": "python3"
  },
  "language_info": {
   "codemirror_mode": {
    "name": "ipython",
    "version": 3
   },
   "file_extension": ".py",
   "mimetype": "text/x-python",
   "name": "python",
   "nbconvert_exporter": "python",
   "pygments_lexer": "ipython3",
   "version": "3.11.5"
  }
 },
 "nbformat": 4,
 "nbformat_minor": 2
}
