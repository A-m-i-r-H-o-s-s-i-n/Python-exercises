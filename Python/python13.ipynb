{
 "cells": [
  {
   "cell_type": "code",
   "execution_count": 1,
   "metadata": {},
   "outputs": [
    {
     "name": "stdout",
     "output_type": "stream",
     "text": [
      "1\t2\t3\t4\t5\t6\t8\t"
     ]
    }
   ],
   "source": [
    "a = [1,2,3,4,5,6,8]\n",
    "for i in a:\n",
    "    print(i, end='\\t')"
   ]
  },
  {
   "cell_type": "code",
   "execution_count": 2,
   "metadata": {},
   "outputs": [
    {
     "name": "stdout",
     "output_type": "stream",
     "text": [
      "1\t2\t3\t4\t5\t6\t8\t"
     ]
    }
   ],
   "source": [
    "a = [1,2,3,4,5,6,8]\n",
    "for i in range(0, len(a)):\n",
    "    print(a[i], end='\\t')"
   ]
  },
  {
   "cell_type": "code",
   "execution_count": 3,
   "metadata": {},
   "outputs": [
    {
     "name": "stdout",
     "output_type": "stream",
     "text": [
      "[1, 2, 3, 4, 5]\n"
     ]
    }
   ],
   "source": [
    "l = []\n",
    "for i in range(5):\n",
    "    a = int(input(\"Enter number: \"))\n",
    "    l.append(a)\n",
    "print(l)"
   ]
  },
  {
   "cell_type": "code",
   "execution_count": 5,
   "metadata": {},
   "outputs": [
    {
     "name": "stdout",
     "output_type": "stream",
     "text": [
      "[12]\n",
      "[12, 1, 23, 4, 6, 8, 1, 23, 4, 5, 6]\n",
      "[23, 23, 12, 8, 6, 6, 5, 4, 4, 1, 1]\n"
     ]
    }
   ],
   "source": [
    "l1 = []\n",
    "l1.append(12)\n",
    "print(l1)\n",
    "l1.extend([1,23,4,6,8])\n",
    "l1.extend([1,23,4,5,6])\n",
    "print(l1)\n",
    "l2 = sorted(l1,reverse=True)\n",
    "print(l2)"
   ]
  },
  {
   "cell_type": "code",
   "execution_count": 6,
   "metadata": {},
   "outputs": [
    {
     "name": "stdout",
     "output_type": "stream",
     "text": [
      "2\n",
      "3\n",
      "4\n",
      "10\n"
     ]
    }
   ],
   "source": [
    "a = [2,3,4,4,4,6,6,1,2,3,4,5,6,8]\n",
    "number = int(input(\"Enter number: \"))\n",
    "for i in range(len(a)):\n",
    "    if a[i] == number:\n",
    "        print(i)"
   ]
  },
  {
   "cell_type": "code",
   "execution_count": 9,
   "metadata": {},
   "outputs": [
    {
     "name": "stdout",
     "output_type": "stream",
     "text": [
      "1\n",
      "9\n"
     ]
    },
    {
     "ename": "ValueError",
     "evalue": "3 is not in list",
     "output_type": "error",
     "traceback": [
      "\u001b[1;31m---------------------------------------------------------------------------\u001b[0m",
      "\u001b[1;31mValueError\u001b[0m                                Traceback (most recent call last)",
      "\u001b[1;32mc:\\Users\\Lenovo\\tutorial\\Python\\Startpython\\python13.ipynb Cell 6\u001b[0m line \u001b[0;36m7\n\u001b[0;32m      <a href='vscode-notebook-cell:/c%3A/Users/Lenovo/tutorial/Python/Startpython/python13.ipynb#W5sZmlsZQ%3D%3D?line=4'>5</a>\u001b[0m a \u001b[39m=\u001b[39m [\u001b[39m2\u001b[39m,\u001b[39m3\u001b[39m,\u001b[39m4\u001b[39m,\u001b[39m4\u001b[39m,\u001b[39m4\u001b[39m,\u001b[39m6\u001b[39m,\u001b[39m6\u001b[39m,\u001b[39m1\u001b[39m,\u001b[39m2\u001b[39m,\u001b[39m3\u001b[39m,\u001b[39m4\u001b[39m,\u001b[39m5\u001b[39m,\u001b[39m6\u001b[39m,\u001b[39m8\u001b[39m]\n\u001b[0;32m      <a href='vscode-notebook-cell:/c%3A/Users/Lenovo/tutorial/Python/Startpython/python13.ipynb#W5sZmlsZQ%3D%3D?line=5'>6</a>\u001b[0m \u001b[39mwhile\u001b[39;00m \u001b[39mTrue\u001b[39;00m:\n\u001b[1;32m----> <a href='vscode-notebook-cell:/c%3A/Users/Lenovo/tutorial/Python/Startpython/python13.ipynb#W5sZmlsZQ%3D%3D?line=6'>7</a>\u001b[0m     ind \u001b[39m=\u001b[39m a\u001b[39m.\u001b[39;49mindex(number, i)\n\u001b[0;32m      <a href='vscode-notebook-cell:/c%3A/Users/Lenovo/tutorial/Python/Startpython/python13.ipynb#W5sZmlsZQ%3D%3D?line=7'>8</a>\u001b[0m     \u001b[39mprint\u001b[39m(ind)\n\u001b[0;32m      <a href='vscode-notebook-cell:/c%3A/Users/Lenovo/tutorial/Python/Startpython/python13.ipynb#W5sZmlsZQ%3D%3D?line=8'>9</a>\u001b[0m     i \u001b[39m=\u001b[39m ind\u001b[39m+\u001b[39m\u001b[39m1\u001b[39m\n",
      "\u001b[1;31mValueError\u001b[0m: 3 is not in list"
     ]
    }
   ],
   "source": [
    "a = [2,3,4,4,4,6,6,1,2,3,4,5,6,8]\n",
    "number = int(input(\"Enter number: \"))\n",
    "i = 0\n",
    "if a.count(number) >0:\n",
    "    a = [2,3,4,4,4,6,6,1,2,3,4,5,6,8]\n",
    "    while True:\n",
    "        ind = a.index(number, i)\n",
    "        print(ind)\n",
    "        i = ind+1\n",
    "        if i > len(a):\n",
    "            break\n",
    "else:\n",
    "    print(\"not font\")"
   ]
  },
  {
   "cell_type": "code",
   "execution_count": 10,
   "metadata": {},
   "outputs": [
    {
     "name": "stdout",
     "output_type": "stream",
     "text": [
      "1\n",
      "55\n",
      "105\n"
     ]
    }
   ],
   "source": [
    "li = []\n",
    "for i in range(5):\n",
    "    li.append(int(input(f\"Enter number: \")))\n",
    "print(min(li))\n",
    "print(max(li))\n",
    "print(sum(li))"
   ]
  }
 ],
 "metadata": {
  "kernelspec": {
   "display_name": "Python 3",
   "language": "python",
   "name": "python3"
  },
  "language_info": {
   "codemirror_mode": {
    "name": "ipython",
    "version": 3
   },
   "file_extension": ".py",
   "mimetype": "text/x-python",
   "name": "python",
   "nbconvert_exporter": "python",
   "pygments_lexer": "ipython3",
   "version": "3.11.5"
  }
 },
 "nbformat": 4,
 "nbformat_minor": 2
}
